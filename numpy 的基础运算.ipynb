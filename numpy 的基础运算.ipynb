{
 "cells": [
  {
   "cell_type": "code",
   "execution_count": 20,
   "id": "ebaa6411",
   "metadata": {},
   "outputs": [],
   "source": [
    "import numpy as np"
   ]
  },
  {
   "cell_type": "code",
   "execution_count": 21,
   "id": "f6849d9a",
   "metadata": {},
   "outputs": [],
   "source": [
    "a = np.array([10,20,30,40])"
   ]
  },
  {
   "cell_type": "code",
   "execution_count": 22,
   "id": "4900f719",
   "metadata": {},
   "outputs": [
    {
     "name": "stdout",
     "output_type": "stream",
     "text": [
      "[0 1 2 3]\n"
     ]
    }
   ],
   "source": [
    "b = np.arange(4)\n",
    "print(b)"
   ]
  },
  {
   "cell_type": "code",
   "execution_count": 23,
   "id": "96cabae0",
   "metadata": {},
   "outputs": [
    {
     "name": "stdout",
     "output_type": "stream",
     "text": [
      "[10 19 28 37]\n"
     ]
    }
   ],
   "source": [
    "# 矩阵减法\n",
    "c = a - b\n",
    "print(c)"
   ]
  },
  {
   "cell_type": "code",
   "execution_count": 24,
   "id": "48ce108b",
   "metadata": {},
   "outputs": [
    {
     "name": "stdout",
     "output_type": "stream",
     "text": [
      "[10 21 32 43]\n"
     ]
    }
   ],
   "source": [
    "# 矩阵加法\n",
    "c = a + b\n",
    "print(c)"
   ]
  },
  {
   "cell_type": "code",
   "execution_count": 25,
   "id": "c857aa1f",
   "metadata": {},
   "outputs": [
    {
     "name": "stdout",
     "output_type": "stream",
     "text": [
      "[0 1 4 9]\n"
     ]
    }
   ],
   "source": [
    "# 每个元素平方\n",
    "c = b ** 2\n",
    "print(c)"
   ]
  },
  {
   "cell_type": "code",
   "execution_count": 26,
   "id": "e98f38b8",
   "metadata": {},
   "outputs": [
    {
     "name": "stdout",
     "output_type": "stream",
     "text": [
      "[-5.44021111  9.12945251 -9.88031624  7.4511316 ]\n",
      "[-8.39071529  4.08082062  1.5425145  -6.66938062]\n"
     ]
    }
   ],
   "source": [
    "c = 10 * np.sin(a)\n",
    "print(c)\n",
    "c = 10 * np.cos(a)\n",
    "print(c)"
   ]
  },
  {
   "cell_type": "code",
   "execution_count": 27,
   "id": "7bc9bd44",
   "metadata": {},
   "outputs": [
    {
     "name": "stdout",
     "output_type": "stream",
     "text": [
      "[0 1 2 3]\n",
      "[ True  True  True False]\n",
      "[False False False  True]\n"
     ]
    }
   ],
   "source": [
    "# 判断每个元素的大小\n",
    "print(b)\n",
    "print(b<3)\n",
    "print(b==3)"
   ]
  },
  {
   "cell_type": "code",
   "execution_count": 28,
   "id": "a14819b7",
   "metadata": {},
   "outputs": [
    {
     "name": "stdout",
     "output_type": "stream",
     "text": [
      "[  0  20  60 120]\n"
     ]
    }
   ],
   "source": [
    "# 矩阵乘法 (对应元素相乘)\n",
    "c = a * b\n",
    "print(c)"
   ]
  },
  {
   "cell_type": "code",
   "execution_count": 34,
   "id": "fea1d7ae",
   "metadata": {},
   "outputs": [
    {
     "name": "stdout",
     "output_type": "stream",
     "text": [
      "[[1 1]\n",
      " [0 1]]\n",
      "[[0 1]\n",
      " [2 3]]\n",
      "-------------\n",
      "[[2 4]\n",
      " [2 3]]\n",
      "-------------\n",
      "[[2 4]\n",
      " [2 3]]\n"
     ]
    }
   ],
   "source": [
    "# 矩阵的乘法\n",
    "a = np.array([[1,1],\n",
    "             [0,1]])\n",
    "b = np.arange(4).reshape((2,2))\n",
    "print(a)\n",
    "print(b)\n",
    "# 点乘\n",
    "c_dot = np.dot(a,b)\n",
    "print('-------------')\n",
    "print(c_dot)\n",
    "print('-------------')\n",
    "c_dot_2 = a.dot(b)\n",
    "print(c_dot_2)"
   ]
  },
  {
   "cell_type": "code",
   "execution_count": 37,
   "id": "09c1a22b",
   "metadata": {},
   "outputs": [
    {
     "name": "stdout",
     "output_type": "stream",
     "text": [
      "[[0.17052498 0.53648256 0.75687183 0.47886764]\n",
      " [0.50416749 0.39783335 0.80130494 0.97369595]]\n",
      "4.619748745283758\n",
      "0.17052497715915083\n",
      "0.9736959528030781\n"
     ]
    }
   ],
   "source": [
    "a = np.random.random((2,4))\n",
    "print(a)\n",
    "# 求和\n",
    "print(np.sum(a))\n",
    "# 最小值\n",
    "print(np.min(a))\n",
    "# 最大值\n",
    "print(np.max(a))\n"
   ]
  },
  {
   "cell_type": "code",
   "execution_count": 40,
   "id": "704ba92f",
   "metadata": {},
   "outputs": [
    {
     "name": "stdout",
     "output_type": "stream",
     "text": [
      "[[0.51777251 0.76694372 0.65109339 0.705105  ]\n",
      " [0.72827823 0.79992275 0.69583531 0.75767525]]\n",
      "-------------\n",
      "[2.64091462 2.98171153]\n",
      "[0.51777251 0.76694372 0.65109339 0.705105  ]\n",
      "[0.76694372 0.79992275]\n"
     ]
    }
   ],
   "source": [
    "a = np.random.random((2,4))\n",
    "print(a)\n",
    "print('-------------')\n",
    "# 求和(每一行求和)\n",
    "print(np.sum(a,axis=1))\n",
    "# 最小值(每一列求最小)\n",
    "print(np.min(a,axis=0))\n",
    "# 最大值(每一行求最大)\n",
    "print(np.max(a,axis=1))\n"
   ]
  },
  {
   "cell_type": "code",
   "execution_count": null,
   "id": "59beca4c",
   "metadata": {},
   "outputs": [],
   "source": []
  }
 ],
 "metadata": {
  "kernelspec": {
   "display_name": "Python 3 (ipykernel)",
   "language": "python",
   "name": "python3"
  },
  "language_info": {
   "codemirror_mode": {
    "name": "ipython",
    "version": 3
   },
   "file_extension": ".py",
   "mimetype": "text/x-python",
   "name": "python",
   "nbconvert_exporter": "python",
   "pygments_lexer": "ipython3",
   "version": "3.9.13"
  }
 },
 "nbformat": 4,
 "nbformat_minor": 5
}
